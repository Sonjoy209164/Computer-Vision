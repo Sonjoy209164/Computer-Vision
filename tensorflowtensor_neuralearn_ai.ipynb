{
  "nbformat": 4,
  "nbformat_minor": 0,
  "metadata": {
    "colab": {
      "provenance": [],
      "authorship_tag": "ABX9TyOnIDsL9wIFv1LWcbGuT8Mx",
      "include_colab_link": true
    },
    "kernelspec": {
      "name": "python3",
      "display_name": "Python 3"
    },
    "language_info": {
      "name": "python"
    }
  },
  "cells": [
    {
      "cell_type": "markdown",
      "metadata": {
        "id": "view-in-github",
        "colab_type": "text"
      },
      "source": [
        "<a href=\"https://colab.research.google.com/github/Sonjoy209164/Computer-Vision/blob/main/tensorflowtensor_neuralearn_ai.ipynb\" target=\"_parent\"><img src=\"https://colab.research.google.com/assets/colab-badge.svg\" alt=\"Open In Colab\"/></a>"
      ]
    },
    {
      "cell_type": "code",
      "execution_count": null,
      "metadata": {
        "colab": {
          "base_uri": "https://localhost:8080/"
        },
        "id": "Z52jrmv8nUcQ",
        "outputId": "f95c60a2-53e1-478e-f17b-ce5c21cab7fa"
      },
      "outputs": [
        {
          "output_type": "stream",
          "name": "stdout",
          "text": [
            "hello\n"
          ]
        }
      ],
      "source": [
        "print(\"hello\")"
      ]
    },
    {
      "cell_type": "code",
      "source": [
        "import tensorflow as tf"
      ],
      "metadata": {
        "id": "khKrj1X-prvz"
      },
      "execution_count": 1,
      "outputs": []
    },
    {
      "cell_type": "markdown",
      "source": [
        "# Creatig a ND tensor"
      ],
      "metadata": {
        "id": "WAV-NL-XqGmX"
      }
    },
    {
      "cell_type": "markdown",
      "source": [
        "1.Tensor 0 D"
      ],
      "metadata": {
        "id": "JWsjJfHKuuRV"
      }
    },
    {
      "cell_type": "code",
      "source": [
        "tensor_zero_d = tf.constant(4)\n",
        "print(tensor_zero_d)\n"
      ],
      "metadata": {
        "id": "pf-WvH3sp_3g",
        "outputId": "975dc93f-1e93-4a47-b82d-cbba0fb36913",
        "colab": {
          "base_uri": "https://localhost:8080/"
        }
      },
      "execution_count": 5,
      "outputs": [
        {
          "output_type": "stream",
          "name": "stdout",
          "text": [
            "tf.Tensor(4, shape=(), dtype=int32)\n",
            "tf.Tensor([2 1 3], shape=(3,), dtype=int32)\n"
          ]
        }
      ]
    },
    {
      "cell_type": "markdown",
      "source": [
        "2.Tensor 1D"
      ],
      "metadata": {
        "id": "w9Cap55Sum72"
      }
    },
    {
      "cell_type": "code",
      "source": [
        "tensor_zero_d =tf.constant([2,1,3.]);\n",
        "tensor_zero_d =tf.constant([2,1,3]);\n",
        "print(tensor_zero_d)"
      ],
      "metadata": {
        "id": "lJHnQlRNuSSW",
        "outputId": "3b0d4a9f-bc52-41de-b8ad-f37786e4082c",
        "colab": {
          "base_uri": "https://localhost:8080/"
        }
      },
      "execution_count": 8,
      "outputs": [
        {
          "output_type": "stream",
          "name": "stdout",
          "text": [
            "tf.Tensor([2 1 3], shape=(3,), dtype=int32)\n"
          ]
        }
      ]
    },
    {
      "cell_type": "markdown",
      "source": [
        "3.Tensor 2D"
      ],
      "metadata": {
        "id": "coRgtngcvUV-"
      }
    },
    {
      "cell_type": "code",
      "source": [
        "tensor_two_d= tf.constant([[1,2,3],[4,5,6]])\n",
        "print(tensor_two_d)"
      ],
      "metadata": {
        "id": "ANHEQLwbvWz2",
        "outputId": "82d8e4c9-74e1-4dc1-9ab2-edcf93436ca1",
        "colab": {
          "base_uri": "https://localhost:8080/"
        }
      },
      "execution_count": 9,
      "outputs": [
        {
          "output_type": "stream",
          "name": "stdout",
          "text": [
            "tf.Tensor(\n",
            "[[1 2 3]\n",
            " [4 5 6]], shape=(2, 3), dtype=int32)\n"
          ]
        }
      ]
    },
    {
      "cell_type": "markdown",
      "source": [
        "4.Tensor 3D"
      ],
      "metadata": {
        "id": "jXUpii2Ou9qd"
      }
    },
    {
      "cell_type": "code",
      "source": [
        "tensor_three_d= tf.constant([[[1,2,3],[4,5,6]],[[7,8,9],[10,11,12]]],dtype=tf.float32)\n",
        "casted_tensor_three_d= tf.cast(tensor_three_d,dtype=tf.int32)\n",
        "print(tensor_three_d)\n",
        "print(tensor_three_d.shape)\n",
        "print(casted_tensor_three_d)\n",
        "tensor_bool=tf.constant([True,True,False])\n",
        "print(tensor_bool)"
      ],
      "metadata": {
        "id": "TkYEyKTmu0bt",
        "outputId": "3a791023-8175-4786-e67d-80dd7fb57c84",
        "colab": {
          "base_uri": "https://localhost:8080/"
        }
      },
      "execution_count": 15,
      "outputs": [
        {
          "output_type": "stream",
          "name": "stdout",
          "text": [
            "tf.Tensor(\n",
            "[[[ 1.  2.  3.]\n",
            "  [ 4.  5.  6.]]\n",
            "\n",
            " [[ 7.  8.  9.]\n",
            "  [10. 11. 12.]]], shape=(2, 2, 3), dtype=float32)\n",
            "(2, 2, 3)\n",
            "tf.Tensor(\n",
            "[[[ 1  2  3]\n",
            "  [ 4  5  6]]\n",
            "\n",
            " [[ 7  8  9]\n",
            "  [10 11 12]]], shape=(2, 2, 3), dtype=int32)\n",
            "tf.Tensor([ True  True False], shape=(3,), dtype=bool)\n"
          ]
        }
      ]
    },
    {
      "cell_type": "markdown",
      "source": [
        "5.Tensor string"
      ],
      "metadata": {
        "id": "IRbtDGkYyTwd"
      }
    },
    {
      "cell_type": "code",
      "source": [
        "tensor_string=tf.constant([\"hello\",\"world\"])\n",
        "print(tensor_string)"
      ],
      "metadata": {
        "id": "aJyIMcr_yTmO",
        "outputId": "90a75f5e-bd6d-4bd9-9d3b-060b31d68eb0",
        "colab": {
          "base_uri": "https://localhost:8080/"
        }
      },
      "execution_count": 16,
      "outputs": [
        {
          "output_type": "stream",
          "name": "stdout",
          "text": [
            "tf.Tensor([b'hello' b'world'], shape=(2,), dtype=string)\n"
          ]
        }
      ]
    },
    {
      "cell_type": "code",
      "source": [
        ""
      ],
      "metadata": {
        "id": "R6h5RNmWvcBV"
      },
      "execution_count": null,
      "outputs": []
    }
  ]
}