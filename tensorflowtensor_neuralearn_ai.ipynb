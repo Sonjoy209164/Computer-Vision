{
  "nbformat": 4,
  "nbformat_minor": 0,
  "metadata": {
    "colab": {
      "provenance": [],
      "toc_visible": true,
      "include_colab_link": true
    },
    "kernelspec": {
      "name": "python3",
      "display_name": "Python 3"
    },
    "language_info": {
      "name": "python"
    }
  },
  "cells": [
    {
      "cell_type": "markdown",
      "metadata": {
        "id": "view-in-github",
        "colab_type": "text"
      },
      "source": [
        "<a href=\"https://colab.research.google.com/github/Sonjoy209164/Computer-Vision/blob/main/tensorflowtensor_neuralearn_ai.ipynb\" target=\"_parent\"><img src=\"https://colab.research.google.com/assets/colab-badge.svg\" alt=\"Open In Colab\"/></a>"
      ]
    },
    {
      "cell_type": "code",
      "execution_count": null,
      "metadata": {
        "colab": {
          "base_uri": "https://localhost:8080/"
        },
        "id": "Z52jrmv8nUcQ",
        "outputId": "f95c60a2-53e1-478e-f17b-ce5c21cab7fa"
      },
      "outputs": [
        {
          "output_type": "stream",
          "name": "stdout",
          "text": [
            "hello\n"
          ]
        }
      ],
      "source": [
        " print(\"hello\")"
      ]
    },
    {
      "cell_type": "code",
      "source": [
        "import tensorflow as tf"
      ],
      "metadata": {
        "id": "khKrj1X-prvz"
      },
      "execution_count": null,
      "outputs": []
    },
    {
      "cell_type": "markdown",
      "source": [
        "# Creatig a ND tensor"
      ],
      "metadata": {
        "id": "WAV-NL-XqGmX"
      }
    },
    {
      "cell_type": "markdown",
      "source": [
        "## 1.Tensor 0 D"
      ],
      "metadata": {
        "id": "JWsjJfHKuuRV"
      }
    },
    {
      "cell_type": "code",
      "source": [
        "tensor_zero_d = tf.constant(4)\n",
        "print(tensor_zero_d)\n"
      ],
      "metadata": {
        "colab": {
          "base_uri": "https://localhost:8080/"
        },
        "id": "pf-WvH3sp_3g",
        "outputId": "dadabb86-f1f6-466e-c0dd-57ea254087e6"
      },
      "execution_count": null,
      "outputs": [
        {
          "output_type": "stream",
          "name": "stdout",
          "text": [
            "tf.Tensor(4, shape=(), dtype=int32)\n"
          ]
        }
      ]
    },
    {
      "cell_type": "markdown",
      "source": [
        "## 2.Tensor 1D"
      ],
      "metadata": {
        "id": "w9Cap55Sum72"
      }
    },
    {
      "cell_type": "code",
      "source": [
        "tensor_zero_d =tf.constant([2,1,3.]);\n",
        "tensor_zero_d =tf.constant([2,1,3]);\n",
        "print(tensor_zero_d)"
      ],
      "metadata": {
        "colab": {
          "base_uri": "https://localhost:8080/"
        },
        "id": "lJHnQlRNuSSW",
        "outputId": "3b0d4a9f-bc52-41de-b8ad-f37786e4082c"
      },
      "execution_count": null,
      "outputs": [
        {
          "output_type": "stream",
          "name": "stdout",
          "text": [
            "tf.Tensor([2 1 3], shape=(3,), dtype=int32)\n"
          ]
        }
      ]
    },
    {
      "cell_type": "markdown",
      "source": [
        "## 3.Tensor 2D"
      ],
      "metadata": {
        "id": "coRgtngcvUV-"
      }
    },
    {
      "cell_type": "code",
      "source": [
        "tensor_two_d= tf.constant([[1,2,3],[4,5,6]])\n",
        "print(tensor_two_d)"
      ],
      "metadata": {
        "colab": {
          "base_uri": "https://localhost:8080/"
        },
        "id": "ANHEQLwbvWz2",
        "outputId": "82d8e4c9-74e1-4dc1-9ab2-edcf93436ca1"
      },
      "execution_count": null,
      "outputs": [
        {
          "output_type": "stream",
          "name": "stdout",
          "text": [
            "tf.Tensor(\n",
            "[[1 2 3]\n",
            " [4 5 6]], shape=(2, 3), dtype=int32)\n"
          ]
        }
      ]
    },
    {
      "cell_type": "markdown",
      "source": [
        "## 4.Tensor 3D"
      ],
      "metadata": {
        "id": "jXUpii2Ou9qd"
      }
    },
    {
      "cell_type": "code",
      "source": [
        "tensor_three_d= tf.constant([[[1,2,3],[4,5,6]],[[7,8,9],[10,11,12]]],dtype=tf.float32)\n",
        "casted_tensor_three_d= tf.cast(tensor_three_d,dtype=tf.int32)\n",
        "print(tensor_three_d)\n",
        "print(tensor_three_d.shape)\n",
        "print(casted_tensor_three_d)\n",
        "tensor_bool=tf.constant([True,True,False])\n",
        "print(tensor_bool)"
      ],
      "metadata": {
        "colab": {
          "base_uri": "https://localhost:8080/"
        },
        "id": "TkYEyKTmu0bt",
        "outputId": "3a791023-8175-4786-e67d-80dd7fb57c84"
      },
      "execution_count": null,
      "outputs": [
        {
          "output_type": "stream",
          "name": "stdout",
          "text": [
            "tf.Tensor(\n",
            "[[[ 1.  2.  3.]\n",
            "  [ 4.  5.  6.]]\n",
            "\n",
            " [[ 7.  8.  9.]\n",
            "  [10. 11. 12.]]], shape=(2, 2, 3), dtype=float32)\n",
            "(2, 2, 3)\n",
            "tf.Tensor(\n",
            "[[[ 1  2  3]\n",
            "  [ 4  5  6]]\n",
            "\n",
            " [[ 7  8  9]\n",
            "  [10 11 12]]], shape=(2, 2, 3), dtype=int32)\n",
            "tf.Tensor([ True  True False], shape=(3,), dtype=bool)\n"
          ]
        }
      ]
    },
    {
      "cell_type": "markdown",
      "source": [
        "## 5.Tensor string"
      ],
      "metadata": {
        "id": "IRbtDGkYyTwd"
      }
    },
    {
      "cell_type": "code",
      "source": [
        "tensor_string=tf.constant([\"hello\",\"world\"])\n",
        "print(tensor_string)"
      ],
      "metadata": {
        "colab": {
          "base_uri": "https://localhost:8080/"
        },
        "id": "aJyIMcr_yTmO",
        "outputId": "90a75f5e-bd6d-4bd9-9d3b-060b31d68eb0"
      },
      "execution_count": null,
      "outputs": [
        {
          "output_type": "stream",
          "name": "stdout",
          "text": [
            "tf.Tensor([b'hello' b'world'], shape=(2,), dtype=string)\n"
          ]
        }
      ]
    },
    {
      "cell_type": "markdown",
      "source": [
        "## 6.create numpy array in tensor  "
      ],
      "metadata": {
        "id": "JVTXQBwiy6rH"
      }
    },
    {
      "cell_type": "code",
      "source": [
        "import numpy as np"
      ],
      "metadata": {
        "id": "R6h5RNmWvcBV"
      },
      "execution_count": null,
      "outputs": []
    },
    {
      "cell_type": "code",
      "source": [
        "np_array = np.ndarray([1, 2, 3])\n",
        "print(np_array)"
      ],
      "metadata": {
        "colab": {
          "base_uri": "https://localhost:8080/"
        },
        "id": "_fHdlJwrzEUW",
        "outputId": "1c7f3955-960d-44ae-da73-98afe3f6184d"
      },
      "execution_count": null,
      "outputs": [
        {
          "output_type": "stream",
          "name": "stdout",
          "text": [
            "[[[2.00000047e+00 5.12000123e+02 8.19200197e+03]\n",
            "  [1.31072032e+05 5.24288127e+05 2.09715251e+06]]]\n"
          ]
        }
      ]
    },
    {
      "cell_type": "code",
      "source": [
        "np_array_tensor=tf.convert_to_tensor(np_array)\n",
        "print(np_array_tensor)"
      ],
      "metadata": {
        "colab": {
          "base_uri": "https://localhost:8080/"
        },
        "id": "3v3Q7OBdzKZV",
        "outputId": "67b96bee-f5c9-49a0-a417-453dac88c237"
      },
      "execution_count": null,
      "outputs": [
        {
          "output_type": "stream",
          "name": "stdout",
          "text": [
            "tf.Tensor(\n",
            "[[[2.00000047e+00 5.12000123e+02 8.19200197e+03]\n",
            "  [1.31072032e+05 5.24288127e+05 2.09715251e+06]]], shape=(1, 2, 3), dtype=float64)\n"
          ]
        }
      ]
    },
    {
      "cell_type": "markdown",
      "source": [
        "## 7.eye tensor"
      ],
      "metadata": {
        "id": "lW3jOvOM1HNH"
      }
    },
    {
      "cell_type": "code",
      "source": [
        "eye_tensor =tf.eye(\n",
        "    num_rows=3,\n",
        "    num_columns=5,\n",
        "    batch_shape=[2,3],\n",
        "    dtype=tf.dtypes.float32,\n",
        "    name=None\n",
        ")\n",
        "print(eye_tensor)"
      ],
      "metadata": {
        "id": "8bge1zp60iQV",
        "outputId": "5e08b12d-ad39-4a62-90a4-e12cf7915cee",
        "colab": {
          "base_uri": "https://localhost:8080/"
        }
      },
      "execution_count": null,
      "outputs": [
        {
          "output_type": "stream",
          "name": "stdout",
          "text": [
            "tf.Tensor(\n",
            "[[[[1. 0. 0. 0. 0.]\n",
            "   [0. 1. 0. 0. 0.]\n",
            "   [0. 0. 1. 0. 0.]]\n",
            "\n",
            "  [[1. 0. 0. 0. 0.]\n",
            "   [0. 1. 0. 0. 0.]\n",
            "   [0. 0. 1. 0. 0.]]\n",
            "\n",
            "  [[1. 0. 0. 0. 0.]\n",
            "   [0. 1. 0. 0. 0.]\n",
            "   [0. 0. 1. 0. 0.]]]\n",
            "\n",
            "\n",
            " [[[1. 0. 0. 0. 0.]\n",
            "   [0. 1. 0. 0. 0.]\n",
            "   [0. 0. 1. 0. 0.]]\n",
            "\n",
            "  [[1. 0. 0. 0. 0.]\n",
            "   [0. 1. 0. 0. 0.]\n",
            "   [0. 0. 1. 0. 0.]]\n",
            "\n",
            "  [[1. 0. 0. 0. 0.]\n",
            "   [0. 1. 0. 0. 0.]\n",
            "   [0. 0. 1. 0. 0.]]]], shape=(2, 3, 3, 5), dtype=float32)\n"
          ]
        }
      ]
    },
    {
      "cell_type": "markdown",
      "source": [
        "## 8.To fill"
      ],
      "metadata": {
        "id": "uAQjib3U1rKe"
      }
    },
    {
      "cell_type": "code",
      "source": [
        "fill_tensor=tf.fill([2,3],5)\n",
        "print(fill_tensor)\n",
        "# fill_tensor.fill(dims,value,name=None)"
      ],
      "metadata": {
        "id": "unSFf1UA1ft1",
        "outputId": "be60dac2-d473-4535-b105-34710b671e8b",
        "colab": {
          "base_uri": "https://localhost:8080/"
        }
      },
      "execution_count": null,
      "outputs": [
        {
          "output_type": "stream",
          "name": "stdout",
          "text": [
            "tf.Tensor(\n",
            "[[5 5 5]\n",
            " [5 5 5]], shape=(2, 3), dtype=int32)\n"
          ]
        }
      ]
    },
    {
      "cell_type": "code",
      "source": [
        "# create a tensor of all ones that has the same shape as the input tensor.\n",
        "tf.ones_like(\n",
        "    fill_tensor,dtype=None,name=None\n",
        ")\n"
      ],
      "metadata": {
        "id": "CX_J0e-k2yZd",
        "outputId": "5afd18d9-a9f4-4fbd-b730-4112f9dfe7e2",
        "colab": {
          "base_uri": "https://localhost:8080/"
        }
      },
      "execution_count": null,
      "outputs": [
        {
          "output_type": "execute_result",
          "data": {
            "text/plain": [
              "<tf.Tensor: shape=(2, 3), dtype=int32, numpy=\n",
              "array([[1, 1, 1],\n",
              "       [1, 1, 1]], dtype=int32)>"
            ]
          },
          "metadata": {},
          "execution_count": 46
        }
      ]
    },
    {
      "cell_type": "code",
      "source": [
        "zero_tensor=tf.ones_like(fill_tensor)\n",
        "print(zero_tensor)"
      ],
      "metadata": {
        "id": "glFqGrZw3aW9",
        "outputId": "9ce4e836-4137-498f-ac16-0a3845074ae6",
        "colab": {
          "base_uri": "https://localhost:8080/"
        }
      },
      "execution_count": null,
      "outputs": [
        {
          "output_type": "stream",
          "name": "stdout",
          "text": [
            "tf.Tensor(\n",
            "[[1 1 1]\n",
            " [1 1 1]], shape=(2, 3), dtype=int32)\n"
          ]
        }
      ]
    },
    {
      "cell_type": "code",
      "source": [
        "# return a tensor same as input tensor\n"
      ],
      "metadata": {
        "id": "dcRBv4Q5322N"
      },
      "execution_count": null,
      "outputs": []
    }
  ]
}